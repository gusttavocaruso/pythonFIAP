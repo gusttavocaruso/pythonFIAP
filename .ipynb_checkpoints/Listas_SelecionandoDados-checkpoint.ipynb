{
 "cells": [
  {
   "cell_type": "code",
   "execution_count": null,
   "id": "20d71452",
   "metadata": {},
   "outputs": [],
   "source": [
    "equipamentos = []\n",
    "valores = []\n",
    "departamentos = []\n",
    "resposta = 'S'\n",
    "\n",
    "while resposta == 'S':\n",
    "    equipamentos.append(input('Equip name: '))\n",
    "    valores.append(float(input('Value: ')))\n",
    "    departamentos.append(input('Department: '))\n",
    "    resposta = input('Digite \\\"S\\\" para continuar').upper()\n",
    "    \n",
    "busca = input('\\nDigite o nome do equipamento que deseja buscar: ')\n",
    "for i in range(0, len(equipamentos)):\n",
    "    if busca == equipamentos[i]:\n",
    "        print('\\nEquipment..: ', i + 1)\n",
    "        print('Name.........: ', equipamentos[i])\n",
    "        print('Value........: ', valores[i])\n",
    "        print('Department...: ', departamentos[i])"
   ]
  }
 ],
 "metadata": {
  "kernelspec": {
   "display_name": "Python 3",
   "language": "python",
   "name": "python3"
  },
  "language_info": {
   "codemirror_mode": {
    "name": "ipython",
    "version": 3
   },
   "file_extension": ".py",
   "mimetype": "text/x-python",
   "name": "python",
   "nbconvert_exporter": "python",
   "pygments_lexer": "ipython3",
   "version": "3.8.8"
  }
 },
 "nbformat": 4,
 "nbformat_minor": 5
}
