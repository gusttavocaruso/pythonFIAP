{
 "cells": [
  {
   "cell_type": "code",
   "execution_count": null,
   "id": "b504bc02",
   "metadata": {},
   "outputs": [],
   "source": [
    "inventario = []\n",
    "resposta = 'S'\n",
    "\n",
    "while resposta == 'S':\n",
    "    inventario.append(input('Equipamento: '))\n",
    "    inventario.append(float(input('valor: ')))\n",
    "    inventario.append(int(input('Número Serial ')))\n",
    "    inventario.append(input('Departamento: '))\n",
    "    resposta = input('Digite \\'S\\' para continuar: ').upper()\n",
    "    \n",
    "for i in inventario:\n",
    "    print(i)"
   ]
  }
 ],
 "metadata": {
  "kernelspec": {
   "display_name": "Python 3",
   "language": "python",
   "name": "python3"
  },
  "language_info": {
   "codemirror_mode": {
    "name": "ipython",
    "version": 3
   },
   "file_extension": ".py",
   "mimetype": "text/x-python",
   "name": "python",
   "nbconvert_exporter": "python",
   "pygments_lexer": "ipython3",
   "version": "3.8.8"
  }
 },
 "nbformat": 4,
 "nbformat_minor": 5
}
