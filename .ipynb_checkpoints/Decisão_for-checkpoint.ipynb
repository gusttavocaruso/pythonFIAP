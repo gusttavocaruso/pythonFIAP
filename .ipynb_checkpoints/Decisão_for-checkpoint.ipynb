{
 "cells": [
  {
   "cell_type": "code",
   "execution_count": null,
   "id": "b0d940ed",
   "metadata": {},
   "outputs": [],
   "source": [
    "tabuada = int(input('Digite um número para exibir a tabuada: '))\n",
    "print('Tabuada escolhida: ', tabuada)\n",
    "\n",
    "for i in range(1, 11, 1): # range(início, fim, encremento)\n",
    "    print(str(tabuada) + ' x ' + str(i) + ' = ' + str((tabuada * i)))"
   ]
  }
 ],
 "metadata": {
  "kernelspec": {
   "display_name": "Python 3",
   "language": "python",
   "name": "python3"
  },
  "language_info": {
   "codemirror_mode": {
    "name": "ipython",
    "version": 3
   },
   "file_extension": ".py",
   "mimetype": "text/x-python",
   "name": "python",
   "nbconvert_exporter": "python",
   "pygments_lexer": "ipython3",
   "version": "3.8.8"
  }
 },
 "nbformat": 4,
 "nbformat_minor": 5
}
