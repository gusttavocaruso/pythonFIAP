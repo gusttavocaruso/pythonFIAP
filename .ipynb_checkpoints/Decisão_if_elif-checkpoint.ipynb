{
 "cells": [
  {
   "cell_type": "code",
   "execution_count": null,
   "id": "d9339b38",
   "metadata": {},
   "outputs": [],
   "source": [
    "nome = input('Digite o nome: ')\n",
    "idade = int(input('Digite a idade: '))\n",
    "\n",
    "if idade > 65:\n",
    "    print('O paciente ' + nome + ' possui atendimento prioritário')\n",
    "elif idade == 65:\n",
    "    print('O paciente ' + nome + ' tem a idade limite de 65 anus')    \n",
    "else:\n",
    "    print('O paciente ' + nome + ' não possui atendimento prioritario')"
   ]
  }
 ],
 "metadata": {
  "kernelspec": {
   "display_name": "Python 3",
   "language": "python",
   "name": "python3"
  },
  "language_info": {
   "codemirror_mode": {
    "name": "ipython",
    "version": 3
   },
   "file_extension": ".py",
   "mimetype": "text/x-python",
   "name": "python",
   "nbconvert_exporter": "python",
   "pygments_lexer": "ipython3",
   "version": "3.8.8"
  }
 },
 "nbformat": 4,
 "nbformat_minor": 5
}
