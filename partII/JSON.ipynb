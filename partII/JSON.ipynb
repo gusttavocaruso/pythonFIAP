{
 "cells": [
  {
   "cell_type": "code",
   "execution_count": null,
   "id": "e0e1726f",
   "metadata": {},
   "outputs": [],
   "source": [
    "import json\n",
    "\n",
    "with open('db.json', 'a') as fileJSON:\n",
    "    dic = json.load(fileJSON)\n",
    "    for k, v in dic.items():\n",
    "        print(k + ' | ' + str(v))"
   ]
  },
  {
   "cell_type": "code",
   "execution_count": null,
   "id": "0da20969",
   "metadata": {},
   "outputs": [],
   "source": [
    "import json\n",
    "\n",
    "dic2 = { a: 1, b: 2, c: 3 }\n",
    "\n",
    "with open('dbCopy.json', 'a') as fileJSONCopy:\n",
    "    json.dump(dic2, fileJSONCopy)"
   ]
  }
 ],
 "metadata": {
  "kernelspec": {
   "display_name": "Python 3",
   "language": "python",
   "name": "python3"
  },
  "language_info": {
   "codemirror_mode": {
    "name": "ipython",
    "version": 3
   },
   "file_extension": ".py",
   "mimetype": "text/x-python",
   "name": "python",
   "nbconvert_exporter": "python",
   "pygments_lexer": "ipython3",
   "version": "3.8.8"
  }
 },
 "nbformat": 4,
 "nbformat_minor": 5
}
