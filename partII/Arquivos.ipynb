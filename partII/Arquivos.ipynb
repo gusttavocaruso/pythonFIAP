{
 "cells": [
  {
   "cell_type": "code",
   "execution_count": null,
   "id": "a6b8493d",
   "metadata": {},
   "outputs": [],
   "source": [
    "#abre/cria arquivo .txt com parâmetro 'w' (write)\n",
    "#escreve 'thats good' em arquivo\n",
    "#fecha arquivo\n",
    "\n",
    "file = open('firstFile.txt', 'w')\n",
    "file.write('Thats good')\n",
    "file.close()"
   ]
  },
  {
   "cell_type": "code",
   "execution_count": null,
   "id": "03367637",
   "metadata": {},
   "outputs": [],
   "source": [
    "#abre/cria arquivo com parâmetro 'a' de append.\n",
    "# 'a' permite ler e escrever em arquivo, e adicionar novos itens sem excluir os antigos\n",
    "\n",
    "with open('firstFile.txt', 'a') as file:\n",
    "    file.write('\\n hakuna matata')"
   ]
  },
  {
   "cell_type": "code",
   "execution_count": null,
   "id": "7b66b101",
   "metadata": {},
   "outputs": [],
   "source": [
    "#função que recebe um obj e salva seu conteúdo em um arquivo.txt\n",
    "\n",
    "def salvarDados(data):\n",
    "    with open('bancoDados.txt', 'a') as db:\n",
    "        for k, v in data.items():\n",
    "            db.write(k + ':' + str(v))"
   ]
  },
  {
   "cell_type": "code",
   "execution_count": null,
   "id": "fc2d7b93",
   "metadata": {},
   "outputs": [],
   "source": [
    "#só lê a 1ª linha\n",
    "file.readline()\n",
    "\n",
    "#útil para separar dados por linha\n",
    "for line in file.readline():\n",
    "    print(line)"
   ]
  }
 ],
 "metadata": {
  "kernelspec": {
   "display_name": "Python 3",
   "language": "python",
   "name": "python3"
  },
  "language_info": {
   "codemirror_mode": {
    "name": "ipython",
    "version": 3
   },
   "file_extension": ".py",
   "mimetype": "text/x-python",
   "name": "python",
   "nbconvert_exporter": "python",
   "pygments_lexer": "ipython3",
   "version": "3.8.8"
  }
 },
 "nbformat": 4,
 "nbformat_minor": 5
}
