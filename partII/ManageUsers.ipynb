{
 "cells": [
  {
   "cell_type": "code",
   "execution_count": null,
   "id": "cb4cd0ae",
   "metadata": {},
   "outputs": [],
   "source": [
    "from partII.functions import *\n",
    "\n",
    "users = {}\n",
    "opt = perguntar()\n",
    "\n",
    "if opt == 'I':\n",
    "    inserir(users)\n",
    "elif opt == 'P':\n",
    "    pesquisar(users)"
   ]
  },
  {
   "cell_type": "code",
   "execution_count": null,
   "id": "64824bb8",
   "metadata": {},
   "outputs": [],
   "source": []
  }
 ],
 "metadata": {
  "kernelspec": {
   "display_name": "Python 3",
   "language": "python",
   "name": "python3"
  },
  "language_info": {
   "codemirror_mode": {
    "name": "ipython",
    "version": 3
   },
   "file_extension": ".py",
   "mimetype": "text/x-python",
   "name": "python",
   "nbconvert_exporter": "python",
   "pygments_lexer": "ipython3",
   "version": "3.8.8"
  }
 },
 "nbformat": 4,
 "nbformat_minor": 5
}
