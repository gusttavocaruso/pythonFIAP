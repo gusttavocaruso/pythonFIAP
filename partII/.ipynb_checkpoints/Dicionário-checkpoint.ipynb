{
 "cells": [
  {
   "cell_type": "code",
   "execution_count": null,
   "id": "602f4b84",
   "metadata": {},
   "outputs": [],
   "source": [
    "# criando dic\n",
    "usuarios = { 'chaves': ['Chaves do 8', '24/11/2017', 'Recep_01'],\n",
    "           'kiko': ['Kiko das Flores', '20/12/2017', 'RaioxX_03']\n",
    "}\n",
    "print(usuarios)"
   ]
  },
  {
   "cell_type": "code",
   "execution_count": null,
   "id": "8cdcae27",
   "metadata": {},
   "outputs": [],
   "source": [
    "# add novo item ao dic\n",
    "usuarios['florinda'] = ['Dona Florinda', '24/12/2017', 'RaioxX_']\n",
    "print(usuarios)"
   ]
  },
  {
   "cell_type": "code",
   "execution_count": null,
   "id": "155caa22",
   "metadata": {},
   "outputs": [],
   "source": [
    "# pesq. item em dic\n",
    "print(usuarios.get('kiko'))"
   ]
  }
 ],
 "metadata": {
  "kernelspec": {
   "display_name": "Python 3",
   "language": "python",
   "name": "python3"
  },
  "language_info": {
   "codemirror_mode": {
    "name": "ipython",
    "version": 3
   },
   "file_extension": ".py",
   "mimetype": "text/x-python",
   "name": "python",
   "nbconvert_exporter": "python",
   "pygments_lexer": "ipython3",
   "version": "3.8.8"
  }
 },
 "nbformat": 4,
 "nbformat_minor": 5
}
