{
 "cells": [
  {
   "cell_type": "code",
   "execution_count": 1,
   "id": "6985acd1",
   "metadata": {},
   "outputs": [],
   "source": [
    "def perguntar():\n",
    "    return input('O que deseja realizar?\\n' +\n",
    "                '< I > - para inserir um usuário\\n' +\n",
    "                '< P > - para pesquisar um usuário\\n' +\n",
    "                '< E > - para excluir um usuário\\n' +\n",
    "                '< L > - para listar um usuário\\n').upper()"
   ]
  },
  {
   "cell_type": "code",
   "execution_count": 2,
   "id": "51c87283",
   "metadata": {},
   "outputs": [],
   "source": [
    "def inserir(user):\n",
    "    user[input('loggin: ').upper()] = [\n",
    "                                          input('nome: ' ).upper(),\n",
    "                                          input('ultima data acesso: '),\n",
    "                                          input('station: ').upper()\n",
    "                                      ]"
   ]
  },
  {
   "cell_type": "code",
   "execution_count": null,
   "id": "edc379b8",
   "metadata": {},
   "outputs": [],
   "source": [
    "def pesquisar(user):\n",
    "    user[input('')]"
   ]
  }
 ],
 "metadata": {
  "kernelspec": {
   "display_name": "Python 3",
   "language": "python",
   "name": "python3"
  },
  "language_info": {
   "codemirror_mode": {
    "name": "ipython",
    "version": 3
   },
   "file_extension": ".py",
   "mimetype": "text/x-python",
   "name": "python",
   "nbconvert_exporter": "python",
   "pygments_lexer": "ipython3",
   "version": "3.8.8"
  }
 },
 "nbformat": 4,
 "nbformat_minor": 5
}
