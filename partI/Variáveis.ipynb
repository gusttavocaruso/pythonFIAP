{
 "cells": [
  {
   "cell_type": "code",
   "execution_count": null,
   "id": "36178ba9",
   "metadata": {},
   "outputs": [],
   "source": [
    "nome = input('Digite um funcionário')\n",
    "empresa = input('Digite a instituição')\n",
    "qntd_funcionarios = int(input('Digite a qdt de funcionários: '))\n",
    "mediaMensalidade = float(input('Digite a média da mensalidade: '))\n",
    "\n",
    "print('=====================')\n",
    "print(nome + ' trabalha na empresa ' + empresa)\n",
    "print('Possui ' + str(qntd_funcionarios) + ' funcionários')\n",
    "print('A média da mensalidade é de ' + str(mediaMensalidade))"
   ]
  }
 ],
 "metadata": {
  "kernelspec": {
   "display_name": "Python 3",
   "language": "python",
   "name": "python3"
  },
  "language_info": {
   "codemirror_mode": {
    "name": "ipython",
    "version": 3
   },
   "file_extension": ".py",
   "mimetype": "text/x-python",
   "name": "python",
   "nbconvert_exporter": "python",
   "pygments_lexer": "ipython3",
   "version": "3.8.8"
  }
 },
 "nbformat": 4,
 "nbformat_minor": 5
}
