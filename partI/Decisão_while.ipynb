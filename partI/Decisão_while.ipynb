{
 "cells": [
  {
   "cell_type": "code",
   "execution_count": null,
   "id": "d5ed902b",
   "metadata": {},
   "outputs": [],
   "source": [
    "numero = int(input('Digite um número'))\n",
    "\n",
    "while numero < 100: #exclui o 100\n",
    "    print('\\t' + str(numero))\n",
    "    numero = numero + 1\n",
    "\n",
    "print('Laço encerrado.')"
   ]
  }
 ],
 "metadata": {
  "kernelspec": {
   "display_name": "Python 3",
   "language": "python",
   "name": "python3"
  },
  "language_info": {
   "codemirror_mode": {
    "name": "ipython",
    "version": 3
   },
   "file_extension": ".py",
   "mimetype": "text/x-python",
   "name": "python",
   "nbconvert_exporter": "python",
   "pygments_lexer": "ipython3",
   "version": "3.8.8"
  }
 },
 "nbformat": 4,
 "nbformat_minor": 5
}
